{
 "cells": [
  {
   "cell_type": "code",
   "execution_count": null,
   "outputs": [],
   "source": [
    "import os\n",
    "import sys\n",
    "\n",
    "sys.path.append(\"../../../\")\n",
    "\n",
    "from data_processing.image_augmentation import selected_crop\n",
    "from prj_utils.consts import ROOT_DIR"
   ],
   "metadata": {
    "collapsed": false
   }
  },
  {
   "cell_type": "markdown",
   "source": [
    "## Init datasets to combine"
   ],
   "metadata": {
    "collapsed": false
   }
  },
  {
   "cell_type": "code",
   "execution_count": null,
   "metadata": {
    "collapsed": true
   },
   "outputs": [],
   "source": [
    "# Dataset dir to use\n",
    "DATASET_NAME = 'rgb_bright'\n",
    "DATASET_RGB_DIRS = [\n",
    "    ROOT_DIR + '/data/processed/private-dataset/RGB',\n",
    "    ROOT_DIR + '/data/processed/VisDrone-ObjDet',\n",
    "    ROOT_DIR + '/data/processed/Heridal',\n",
    "    ROOT_DIR + '/data/processed/TinyPerson',\n",
    "    ROOT_DIR + '/data/processed/Sard',\n",
    "]\n",
    "DATASET_RGBT_DIRS = [\n",
    "    ROOT_DIR + '/data/processed/NII-CU',\n",
    "    ROOT_DIR + '/data/processed/Yuneec-p1',\n",
    "    ROOT_DIR + '/data/processed/Yuneec-p2'\n",
    "]\n",
    "\n",
    "RESULT_DIR = ROOT_DIR + f'/data/final/{DATASET_NAME}'"
   ]
  },
  {
   "cell_type": "markdown",
   "source": [
    "## Selected crop"
   ],
   "metadata": {
    "collapsed": false
   }
  },
  {
   "cell_type": "code",
   "execution_count": null,
   "outputs": [],
   "source": [
    "def selected_crop_for_dir(image_dir, annotation_dir, result_dir):\n",
    "    for image_file, annotation_file in zip(os.listdir(image_dir), os.listdir(annotation_dir)):\n",
    "        if image_dir == ROOT_DIR + '/data/processed/VisDrone-ObjDet/train/images':\n",
    "            # To limit number of outputs from Visdrone\n",
    "            selected_crop(\n",
    "                image_path=f'{image_dir}/{image_file}',\n",
    "                annotation_path=f'{annotation_dir}/{annotation_file}',\n",
    "                new_filename=image_file.split('.')[0],\n",
    "                new_image_dir=f'{result_dir}/images',\n",
    "                new_annotation_dir=f'{result_dir}/labels',\n",
    "                annotation_count=3\n",
    "            )\n",
    "        else:\n",
    "            selected_crop(\n",
    "                image_path=f'{image_dir}/{image_file}',\n",
    "                annotation_path=f'{annotation_dir}/{annotation_file}',\n",
    "                new_filename=image_file.split('.')[0],\n",
    "                new_image_dir=f'{result_dir}/images',\n",
    "                new_annotation_dir=f'{result_dir}/labels',\n",
    "                annotation_count=5\n",
    "            )\n",
    "\n",
    "\n",
    "for dataset_dir in DATASET_RGB_DIRS:\n",
    "    selected_crop_for_dir(f'{dataset_dir}/train/images', f'{dataset_dir}/train/labels', f'{RESULT_DIR}/train')\n",
    "    selected_crop_for_dir(f'{dataset_dir}/validate/images', f'{dataset_dir}/validate/labels', f'{RESULT_DIR}/validate')\n",
    "    selected_crop_for_dir(f'{dataset_dir}/test/images', f'{dataset_dir}/test/labels', f'{RESULT_DIR}/test')\n",
    "    print(len(os.listdir(f'{RESULT_DIR}/train/labels')))\n",
    "\n",
    "for dataset_dir in DATASET_RGBT_DIRS:\n",
    "    selected_crop_for_dir(f'{dataset_dir}/train/RGB/images', f'{dataset_dir}/train/RGB/labels', f'{RESULT_DIR}/train')\n",
    "    selected_crop_for_dir(f'{dataset_dir}/validate/RGB/images', f'{dataset_dir}/validate/RGB/labels',\n",
    "                          f'{RESULT_DIR}/validate')\n",
    "    selected_crop_for_dir(f'{dataset_dir}/test/RGB/images', f'{dataset_dir}/test/RGB/labels', f'{RESULT_DIR}/test')\n",
    "    print(len(os.listdir(f'{RESULT_DIR}/train/labels')))\n"
   ],
   "metadata": {
    "collapsed": false
   }
  },
  {
   "cell_type": "markdown",
   "source": [
    "## Remove by objects size"
   ],
   "metadata": {
    "collapsed": false
   }
  },
  {
   "cell_type": "code",
   "execution_count": null,
   "outputs": [],
   "source": [
    "from data_processing.image_processing import remove_xywhn_img_with_small_obj_from_dir, \\\n",
    "    remove_xywhn_img_with_big_obj_from_dir\n",
    "\n",
    "print(len(os.listdir(f'{RESULT_DIR}/train/labels')))\n",
    "remove_xywhn_img_with_small_obj_from_dir(f'{RESULT_DIR}/train/images', f'{RESULT_DIR}/train/labels')\n",
    "remove_xywhn_img_with_small_obj_from_dir(f'{RESULT_DIR}/validate/images', f'{RESULT_DIR}/validate/labels')\n",
    "remove_xywhn_img_with_small_obj_from_dir(f'{RESULT_DIR}/test/images', f'{RESULT_DIR}/test/labels')\n",
    "\n",
    "remove_xywhn_img_with_big_obj_from_dir(f'{RESULT_DIR}/train/images', f'{RESULT_DIR}/train/labels')\n",
    "remove_xywhn_img_with_big_obj_from_dir(f'{RESULT_DIR}/validate/images', f'{RESULT_DIR}/validate/labels')\n",
    "remove_xywhn_img_with_big_obj_from_dir(f'{RESULT_DIR}/test/images', f'{RESULT_DIR}/test/labels')\n",
    "\n",
    "print(len(os.listdir(f'{RESULT_DIR}/train/labels')))"
   ],
   "metadata": {
    "collapsed": false
   }
  },
  {
   "cell_type": "markdown",
   "source": [
    "## Remove by brightness"
   ],
   "metadata": {
    "collapsed": false
   }
  },
  {
   "cell_type": "code",
   "execution_count": null,
   "outputs": [],
   "source": [
    "from data_processing.image_processing import remove_img_below_min_brightness\n",
    "\n",
    "remove_img_below_min_brightness(f'{RESULT_DIR}/train/images', f'{RESULT_DIR}/train/labels')\n",
    "remove_img_below_min_brightness(f'{RESULT_DIR}/validate/images', f'{RESULT_DIR}/validate/labels')\n",
    "remove_img_below_min_brightness(f'{RESULT_DIR}/test/images', f'{RESULT_DIR}/test/labels')"
   ],
   "metadata": {
    "collapsed": false
   }
  }
 ],
 "metadata": {
  "kernelspec": {
   "display_name": "Python 3",
   "language": "python",
   "name": "python3"
  },
  "language_info": {
   "codemirror_mode": {
    "name": "ipython",
    "version": 2
   },
   "file_extension": ".py",
   "mimetype": "text/x-python",
   "name": "python",
   "nbconvert_exporter": "python",
   "pygments_lexer": "ipython2",
   "version": "2.7.6"
  }
 },
 "nbformat": 4,
 "nbformat_minor": 0
}
