{
 "cells": [
  {
   "cell_type": "markdown",
   "source": [
    "# Private dataset\n",
    "\n",
    "Follow this notebook to prepare our collected data (currently dataset is not public).\n",
    "\n",
    "**Description:**\n",
    "- This dataset is containing both RGB images and thermal images of people captured by drone platforms in different places at different height and daytime.\n",
    "\n",
    "**labels:**\n",
    "- object_category x_left y_top width_scaled height_scaled\n",
    "- bounding box in annotation in xywhn (YOLO) format\n",
    "\n",
    "**Table of content:**\n",
    "\n",
    "0. Init - imports and data download\n",
    "1. Dataset split to train, val and test\n",
    "2. Dataset visualization"
   ],
   "metadata": {
    "collapsed": false
   }
  },
  {
   "cell_type": "markdown",
   "source": [
    "## 0. Init - imports and data download\n",
    "\n",
    "Dataset directory:\n",
    "```\n",
    "data\n",
    "└───source\n",
    "    └───private-dataset\n",
    "        ├───RGB\n",
    "        │   ├───annotations\n",
    "        │   └───images\n",
    "        └───Termo\n",
    "            ├───annotations\n",
    "            └───images\n",
    "```"
   ],
   "metadata": {
    "collapsed": false
   }
  },
  {
   "cell_type": "code",
   "execution_count": null,
   "outputs": [],
   "source": [
    "# Uncomment below two lines to reload imported packages (in case of modifying them)\n",
    "# %load_ext autoreload\n",
    "# %autoreload 2\n",
    "\n",
    "# Imports\n",
    "import os\n",
    "import cv2\n",
    "import random\n",
    "import numpy as np\n",
    "import shutil\n",
    "import pybboxes as pbx\n",
    "import albumentations as A\n",
    "from pathlib import Path\n",
    "\n",
    "from prj_utils.consts import ROOT_DIR\n",
    "from data_processing.image_processing import plot_xywhn_annotated_image_from_file, get_brightness_stats, copy_annotated_images, get_number_of_objects_stats\n",
    "\n",
    "# Consts\n",
    "RGB_DIR = f'{ROOT_DIR}/data/source/private-dataset/RGB/images'\n",
    "RGB_ANNO_DIR = f'{ROOT_DIR}/data/source/private-dataset/RGB/annotations'\n",
    "THERM_DIR = f'{ROOT_DIR}/data/source/private-dataset/Thermal/images'\n",
    "THERM_ANNO_DIR = f'{ROOT_DIR}/data/source/private-dataset/Thermal/annotations'\n",
    "RGB_PROCESSED_DIR = f'{ROOT_DIR}/data/processed/private-dataset/RGB'\n",
    "\n",
    "\n",
    "ANNOTATION_HEADER = ['object_category', 'x_left', 'y_top', 'width_scaled', 'height_scaled']\n",
    "CLASS = '0'"
   ],
   "metadata": {
    "collapsed": false
   }
  },
  {
   "cell_type": "code",
   "execution_count": null,
   "outputs": [],
   "source": [
    "def read_bboxes(path) -> list[list[float]]:\n",
    "    with open(path, 'r') as file:\n",
    "        labels = []\n",
    "        for line in file:\n",
    "            labels.append([float(i) for i in line.split(' ')[1:]] + [int(line.split(' ')[0])])\n",
    "        return labels\n",
    "\n",
    "def save_labels(output_labels_filepath: str, yolo_bboxes: list[float]):\n",
    "    with open(output_labels_filepath, 'w') as file:\n",
    "        for label in yolo_bboxes:\n",
    "            line = '0 ' + ' '.join([str(l) for l in label][:-1])\n",
    "            file.write(f'{line}\\n')\n",
    "\n",
    "def crop_to_thermo(input_rgb_filepath, input_annotation_filepath, output_rgb_filepath, output_annotation_filepath):\n",
    "    rgb_image = cv2.imread(input_rgb_filepath)\n",
    "    yolo_bboxes = read_bboxes(input_annotation_filepath)\n",
    "\n",
    "    WIDTH = 1200\n",
    "    HEIGHT = 900\n",
    "    class_labels = ['human']\n",
    "    to_thermo_crop_transform = A.Compose([\n",
    "        A.CenterCrop(width=WIDTH, height=HEIGHT)\n",
    "    ], bbox_params=A.BboxParams(format='yolo'))\n",
    "\n",
    "    transformed = to_thermo_crop_transform(image=rgb_image, bboxes=yolo_bboxes)\n",
    "    transformed_yolo_bboxes = transformed['bboxes']\n",
    "    transformed_image = transformed['image']\n",
    "\n",
    "    cv2.imwrite(output_rgb_filepath, transformed_image)\n",
    "    save_labels(output_annotation_filepath, transformed_yolo_bboxes)"
   ],
   "metadata": {
    "collapsed": false
   }
  },
  {
   "cell_type": "code",
   "execution_count": null,
   "outputs": [],
   "source": [
    "Path(f'{RGB_PROCESSED_DIR}/images').mkdir(parents=True, exist_ok=True)\n",
    "Path(f'{RGB_PROCESSED_DIR}/labels').mkdir(parents=True, exist_ok=True)\n",
    "\n",
    "for rgb_file in os.listdir(RGB_DIR):\n",
    "    rgb_filename = Path(rgb_file).stem\n",
    "    rgb_filepath = os.path.join(RGB_DIR, rgb_file)\n",
    "\n",
    "    thermo_file = f'{rgb_filename}.jpeg'\n",
    "    thermo_filepath = os.path.join(THERM_DIR, thermo_file)\n",
    "\n",
    "    annotation_file = f'{rgb_filename}.txt'\n",
    "    annotation_filepath = os.path.join(RGB_ANNO_DIR, annotation_file)\n",
    "\n",
    "    output_rgb_filepath = f'{RGB_PROCESSED_DIR}/images/{rgb_file}'\n",
    "    output_annotation_filepath = f'{RGB_PROCESSED_DIR}/labels/{annotation_file}'\n",
    "\n",
    "    crop_to_thermo(rgb_filepath, annotation_filepath, output_rgb_filepath, output_annotation_filepath)\n",
    "\n",
    "    plot_xywhn_annotated_image_from_file(output_rgb_filepath, output_annotation_filepath)\n",
    "    plot_xywhn_annotated_image_from_file(thermo_filepath, output_annotation_filepath)\n"
   ],
   "metadata": {
    "collapsed": false
   }
  }
 ],
 "metadata": {
  "kernelspec": {
   "display_name": "Python 3",
   "language": "python",
   "name": "python3"
  },
  "language_info": {
   "codemirror_mode": {
    "name": "ipython",
    "version": 2
   },
   "file_extension": ".py",
   "mimetype": "text/x-python",
   "name": "python",
   "nbconvert_exporter": "python",
   "pygments_lexer": "ipython2",
   "version": "2.7.6"
  }
 },
 "nbformat": 4,
 "nbformat_minor": 0
}
