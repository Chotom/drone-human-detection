{
 "cells": [
  {
   "cell_type": "markdown",
   "source": [
    "# NII-CU Multispectral Aerial Person Detection Dataset\n",
    "\n",
    "Follow this notebook to prepare NII-CU dataset.\n",
    "\n",
    "**Description:**\n",
    "- The National Institute of Informatics - Chiba University (NII-CU) Multispectral Aerial Person Detection Dataset consists of 5,880 pairs of aligned RGB+FIR (Far infrared) images captured from a drone flying at heights between 20 and 50 meters, with the cameras pointed at 45 degrees down. We applied lens distortion correction and a homography warping to align the thermal images with the RGB images. We then labeled the people visible on the images with rectangular bounding boxes. The footage shows a baseball field and surroundings in Chiba, Japan, recorded in January 2020.\n",
    "\n",
    "**Annotations:**\n",
    "- in .txt format (one file per one image pair):\n",
    "```txt\n",
    "x1\ty1\tx2\ty2\ttype\toccluded\tbad\n",
    "```\n",
    "example:\n",
    "```txt\n",
    "4.27\t111.52\t145.07\t371.38\t2\t1\t0\n",
    "136.53\t367.65\t435.2\t841.48\t2\t0\t0\n",
    "```\n",
    "|Field|Description|\n",
    "|:----|:----|\n",
    "|x1|left of box in pixels, referring to RGB image space|\n",
    "|y1|top of box in pixels, referring to RGB image space|\n",
    "|x2|right of box in pixels, referring to RGB image space|\n",
    "|y2|bottom of box in pixels, referring to RGB image space|\n",
    "|type|0 = person visible on both RGB and thermal; 1 = visible only on Thermal; 2 = visible only on RGB|\n",
    "|occluded|0 = completely visible; 1 = partially occluded|\n",
    "|bad|0 = good; 1 = bad, e.g. blurry and smeared due to motion blur|\n",
    "\n",
    "**Table of content:**\n",
    "\n",
    "0. Init - imports and data download\n",
    "1. Data annotation cleaning\n",
    "2. Data transformation\n",
    "3. Data visualization\n"
   ],
   "metadata": {
    "collapsed": false
   }
  },
  {
   "cell_type": "markdown",
   "source": [
    "## 0. Init - imports and data download\n",
    "Download sard.zip files and extract them to `data/source/NII-CU` dir. After extract data should look like this:\n",
    "```\n",
    "data\n",
    "└───source\n",
    "    └───NII-CU\n",
    "        ├───4-channel\n",
    "        │   ├───images\n",
    "        │   │   ├───rgb\n",
    "        │   │   │   ├───train\n",
    "        │   │   │   └───val\n",
    "        │   │   └───thermal\n",
    "        │   └───labels\n",
    "        │       ├───train\n",
    "        │       └───val\n",
    "        └───rgb-t\n",
    "            │   ├───images\n",
    "            │   ├───rgb\n",
    "            │   │   ├───train\n",
    "            │   │   └───val\n",
    "            │   └───thermal\n",
    "            └───labels\n",
    "                ├───train\n",
    "                └───val\n",
    "```\n",
    "Currently, the rgb-t directory is not used"
   ],
   "metadata": {
    "collapsed": false
   }
  },
  {
   "cell_type": "code",
   "execution_count": 1,
   "outputs": [],
   "source": [
    "# Uncomment below two lines to reload imported packages (in case of modifying them)\n",
    "# %load_ext autoreload\n",
    "# %autoreload 2\n",
    "\n",
    "# Imports\n",
    "import os\n",
    "import random\n",
    "import numpy as np\n",
    "import pandas as pd\n",
    "import shutil\n",
    "import cv2\n",
    "import pybboxes as pbx\n",
    "from pathlib import Path\n",
    "\n",
    "from prj_utils.consts import ROOT_DIR\n",
    "from data_processing.image_processing import plot_xywhn_annotated_image_from_file, get_brightness_stats, copy_annotated_images, get_number_of_objects_stats\n",
    "\n",
    "# Consts\n",
    "TRAIN_RGB_DIR = f'{ROOT_DIR}/data/source/NII-CU/4-channel/images/rgb/train'\n",
    "VAL_RGB_DIR = f'{ROOT_DIR}/data/source/NII-CU/4-channel/images/rgb/val'\n",
    "TRAIN_THERMO_DIR = f'{ROOT_DIR}/data/source/NII-CU/4-channel/images/thermal/train'\n",
    "VAL_THERMO_DIR = f'{ROOT_DIR}/data/source/NII-CU/4-channel/images/thermal/val'\n",
    "TRAIN_LABELS_DIR = f'{ROOT_DIR}/data/source/NII-CU/4-channel/labels/train'\n",
    "VAL_LABELS_DIR = f'{ROOT_DIR}/data/source/NII-CU/4-channel/labels/val'\n",
    "\n",
    "TRAIN_PROCESSED_DIR = f'{ROOT_DIR}/data/processed/NII-CU/train'\n",
    "VAL_PROCESSED_DIR = f'{ROOT_DIR}/data/processed/NII-CU/validate'\n",
    "TEST_PROCESSED_DIR = f'{ROOT_DIR}/data/processed/NII-CU/test'"
   ],
   "metadata": {
    "collapsed": false
   }
  },
  {
   "cell_type": "markdown",
   "source": [
    "## 1. Data transformation\n",
    "- Transform labels from voc .txt format to yolo .txt files\n",
    "- Split train data into train and validate dataset\n",
    "\n",
    "After this step processed data directory should look like this:\n",
    "```\n",
    "data\n",
    "└───processed\n",
    "    └───Sard\n",
    "        ├───test\n",
    "        │   ├───images\n",
    "        │   └───labels\n",
    "        ├───train\n",
    "        │   ├───images\n",
    "        │   └───labels\n",
    "        └───validate\n",
    "            ├───images\n",
    "            └───labels\n",
    "```"
   ],
   "metadata": {
    "collapsed": false
   }
  },
  {
   "cell_type": "markdown",
   "source": [
    "## 1.1 Transform labels to yolo .txt files\n",
    "\n",
    "Yolo format:\n",
    "- One *.txt file per image (if no objects in image, no *.txt file is required).\n",
    "- One row per object.\n",
    "- Each row is `class x_center y_center scaled_width scaled_height` format, separated by space.\n",
    "- Box coordinates must be in normalized from 0 to 1. If your boxes are in pixels, divide x_center and width by image width, and y_center and height by image height.\n",
    "- Bounding box in annotation in xywhn format.\n",
    "- Class numbers are zero-indexed (start from 0).\n",
    "- Files are saved into `data/NII-CU/processed/train` and `data/Sard/processed/test` to RGB or Thermal directories and images or labels subdirectory. Currently both RGB and Thermal annotations are the same.\n"
   ],
   "metadata": {
    "collapsed": false
   }
  },
  {
   "cell_type": "code",
   "execution_count": 2,
   "outputs": [],
   "source": [
    "def read_bboxes(path) -> list[list[float]]:\n",
    "    with open(path, 'r') as file:\n",
    "        labels = []\n",
    "        for line in file:\n",
    "            labels.append((float(element) for element in line.split('\\t')[:4]))\n",
    "        return labels\n",
    "\n",
    "def convert_bboxes(bboxes, image_size):\n",
    "    yolo_labels = []\n",
    "    for bbox in bboxes:\n",
    "        yolo_bbox = pbx.convert_bbox(bbox, image_size=image_size, from_type=\"voc\", to_type=\"yolo\")\n",
    "        yolo_label = (0,) + yolo_bbox\n",
    "        yolo_labels.append(yolo_label)\n",
    "    return yolo_labels\n",
    "\n",
    "def save_labels(labels, output_file):\n",
    "    with open(output_file, 'w') as f:\n",
    "        for label in labels:\n",
    "            line = ' '.join([str(l) for l in label])\n",
    "            f.write(f'{line}\\n')"
   ],
   "metadata": {
    "collapsed": false
   }
  },
  {
   "cell_type": "code",
   "execution_count": 3,
   "outputs": [],
   "source": [
    "def process_directory(input_directory_rgb, input_directory_thermal, input_directory_labels, output_directory):\n",
    "    Path(f'{output_directory}/RGB/images').mkdir(parents=True, exist_ok=True)\n",
    "    Path(f'{output_directory}/RGB/annotations').mkdir(parents=True, exist_ok=True)\n",
    "    Path(f'{output_directory}/Thermal/images').mkdir(parents=True, exist_ok=True)\n",
    "    Path(f'{output_directory}/Thermal/annotations').mkdir(parents=True, exist_ok=True)\n",
    "\n",
    "    files = [f for f in os.listdir(input_directory_labels) if os.path.isfile(os.path.join(input_directory_labels, f))]\n",
    "\n",
    "    for labels_file in files:\n",
    "        labels_filename = Path(labels_file).stem\n",
    "        labels_filepath = os.path.join(input_directory_labels, labels_file)\n",
    "\n",
    "        image_file = f'{labels_filename}.jpg'\n",
    "        rgb_image_filepath = os.path.join(input_directory_rgb, image_file)\n",
    "        thermal_image_filepath = os.path.join(input_directory_thermal, image_file)\n",
    "\n",
    "        image = cv2.imread(rgb_image_filepath)\n",
    "        height, width, channels = image.shape\n",
    "        image_size = (width, height)\n",
    "\n",
    "        output_rgb_image_filepath = f'{output_directory}/RGB/images/{image_file}'\n",
    "        output_rgb_labels_filepath = f'{output_directory}/RGB/annotations/{labels_file}'\n",
    "        output_thermal_image_filepath = f'{output_directory}/Thermal/images/{image_file}'\n",
    "        output_thermal_labels_filepath = f'{output_directory}/Thermal/annotations/{labels_file}'\n",
    "\n",
    "        bboxes = read_bboxes(labels_filepath)\n",
    "        yolo_lables = convert_bboxes(bboxes, image_size)\n",
    "        save_labels(yolo_lables, output_rgb_labels_filepath)\n",
    "        save_labels(yolo_lables, output_thermal_labels_filepath)\n",
    "\n",
    "        shutil.copyfile(rgb_image_filepath, output_rgb_image_filepath)\n",
    "        shutil.copyfile(thermal_image_filepath, output_thermal_image_filepath)\n",
    "\n",
    "        # plot_xywhn_annotated_image_from_file(output_rgb_image_filepath, output_rgb_labels_filepath)\n",
    "        # plot_xywhn_annotated_image_from_file(output_thermal_image_filepath, output_thermal_labels_filepath)\n",
    "\n",
    "process_directory(TRAIN_RGB_DIR, TRAIN_THERMO_DIR, TRAIN_LABELS_DIR, TRAIN_PROCESSED_DIR)\n",
    "process_directory(VAL_RGB_DIR, VAL_THERMO_DIR, VAL_LABELS_DIR, VAL_PROCESSED_DIR)"
   ],
   "metadata": {
    "collapsed": false
   }
  },
  {
   "cell_type": "markdown",
   "source": [
    "## 1.2 Change validate set to test set and split train data into train and validate dataset\n",
    "\n",
    "Rename directory `data/NII-CU/processed/validate` to `data/NII-CU/processed/test`\n",
    "Move random probes from `data/NII-CU/processed/train` to `data/NII-CU/processed/validate`."
   ],
   "metadata": {
    "collapsed": false
   }
  },
  {
   "cell_type": "code",
   "execution_count": 4,
   "outputs": [],
   "source": [
    "random.seed(1)\n",
    "np.random.seed(1)\n",
    "\n",
    "shutil.move(VAL_PROCESSED_DIR, TEST_PROCESSED_DIR)\n",
    "\n",
    "filenames = [f for f in os.listdir(f'{TRAIN_PROCESSED_DIR}/RGB/annotations') if os.path.isfile(os.path.join(f'{TRAIN_PROCESSED_DIR}/RGB/annotations', f))]\n",
    "\n",
    "split = int(0.82 * len(filenames))\n",
    "\n",
    "np.random.shuffle(filenames)\n",
    "train_filenames = filenames[:split]\n",
    "val_filenames = filenames[split:]\n",
    "\n",
    "Path(f'{VAL_PROCESSED_DIR}/RGB/images').mkdir(parents=True, exist_ok=True)\n",
    "Path(f'{VAL_PROCESSED_DIR}/RGB/annotations').mkdir(parents=True, exist_ok=True)\n",
    "Path(f'{VAL_PROCESSED_DIR}/Thermal/images').mkdir(parents=True, exist_ok=True)\n",
    "Path(f'{VAL_PROCESSED_DIR}/Thermal/annotations').mkdir(parents=True, exist_ok=True)\n",
    "\n",
    "for file in val_filenames:\n",
    "    filename = Path(file).stem\n",
    "\n",
    "    rgb_image_filepath = f'{TRAIN_PROCESSED_DIR}/RGB/images/{filename}.jpg'\n",
    "    rgb_label_filepath = f'{TRAIN_PROCESSED_DIR}/RGB/annotations/{filename}.txt'\n",
    "    thermal_image_filepath = f'{TRAIN_PROCESSED_DIR}/Thermal/images/{filename}.jpg'\n",
    "    thermal_label_filepath = f'{TRAIN_PROCESSED_DIR}/Thermal/annotations/{filename}.txt'\n",
    "\n",
    "    output_rgb_image_filepath = f'{VAL_PROCESSED_DIR}/RGB/images/{filename}.jpg'\n",
    "    output_rgb_label_filepath = f'{VAL_PROCESSED_DIR}/RGB/annotations/{filename}.txt'\n",
    "    output_thermal_image_filepath = f'{VAL_PROCESSED_DIR}/Thermal/images/{filename}.jpg'\n",
    "    output_thermal_label_filepath = f'{VAL_PROCESSED_DIR}/Thermal/annotations/{filename}.txt'\n",
    "\n",
    "    shutil.move(rgb_image_filepath, output_rgb_image_filepath)\n",
    "    shutil.move(rgb_label_filepath, output_rgb_label_filepath)\n",
    "    shutil.move(thermal_image_filepath, output_thermal_image_filepath)\n",
    "    shutil.move(thermal_label_filepath, output_thermal_label_filepath)\n"
   ],
   "metadata": {
    "collapsed": false
   }
  },
  {
   "cell_type": "code",
   "execution_count": 4,
   "outputs": [],
   "source": [],
   "metadata": {
    "collapsed": false
   }
  }
 ],
 "metadata": {
  "kernelspec": {
   "display_name": "Python 3",
   "language": "python",
   "name": "python3"
  },
  "language_info": {
   "codemirror_mode": {
    "name": "ipython",
    "version": 2
   },
   "file_extension": ".py",
   "mimetype": "text/x-python",
   "name": "python",
   "nbconvert_exporter": "python",
   "pygments_lexer": "ipython2",
   "version": "2.7.6"
  }
 },
 "nbformat": 4,
 "nbformat_minor": 0
}
