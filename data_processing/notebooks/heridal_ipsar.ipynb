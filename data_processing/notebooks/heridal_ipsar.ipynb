{
 "cells": [
  {
   "cell_type": "markdown",
   "source": [
    "# Heridal Image Processing for Search And Rescue dataset\n",
    "\n",
    "Follow this notebook to prepare VisDrone dataset.\n",
    "\n",
    "**Description:**\n",
    "- HERIDAL database contains approximately 500 labelled, full-size 4,000 x 3,000 pixel real-world images. At the moment 101 images have been selected for testing purposes. Furthermore, this dataset contains over 68,750 image patches of wilderness acquired from an aerial perspective, 29,050 positive samples containing person as well as 39,700 negative samples .\n",
    "\n",
    "**Annotations:**\n",
    "- in xml format:\n",
    "```xml\n",
    "<object>\n",
    "  <name>human</name>\n",
    "  <pose>unspecified</pose>\n",
    "  <truncated>0</truncated>\n",
    "  <difficult>0</difficult>\n",
    "  <bndbox>\n",
    "     <xmin>3471</xmin>\n",
    "     <xmax>3540</xmax>\n",
    "     <ymin>1195</ymin>\n",
    "     <ymax>1275</ymax>\n",
    "  </bndbox>\n",
    "</object>\n",
    "```\n",
    "- bounding box in annotation in xyxy format\n",
    "\n",
    "**Table of content:**\n",
    "\n",
    "0. Init - imports and data download\n",
    "1. Data annotation cleaning\n",
    "2. Data transformation\n",
    "3. Data visualization\n"
   ],
   "metadata": {
    "collapsed": false
   }
  },
  {
   "cell_type": "markdown",
   "source": [
    "## 0. Init - imports and data download\n",
    "Download dataset .zip files and extract them to `data/source/Heridal` dir. After extract data should look like this:\n",
    "```\n",
    "data\n",
    "└───source\n",
    "    └───Heridal\n",
    "        ├───patches\n",
    "        │   ├───negative\n",
    "        │   └───positive\n",
    "        ├───testImages\n",
    "        │   └───labels\n",
    "        └───trainImages\n",
    "            └───labels\n",
    "```\n",
    "\n",
    "Currently `Heridal/patches` subdir is not used."
   ],
   "metadata": {
    "collapsed": false
   }
  },
  {
   "cell_type": "code",
   "execution_count": null,
   "outputs": [],
   "source": [
    "# Uncomment below two lines to reload imported packages (in case of modifying them)\n",
    "# %load_ext autoreload\n",
    "# %autoreload 2\n",
    "\n",
    "# Imports\n",
    "import os\n",
    "import random\n",
    "import numpy as np\n",
    "import pandas as pd\n",
    "import shutil\n",
    "import xmltodict\n",
    "import json\n",
    "import cv2\n",
    "import pybboxes as pbx\n",
    "from pathlib import Path\n",
    "\n",
    "from prj_utils.consts import ROOT_DIR\n",
    "from data_processing.image_processing import plot_xywhn_annotated_image_from_file, get_brightness_stats, copy_annotated_images, get_number_of_objects_stats\n",
    "\n",
    "# Consts\n",
    "TRAIN_DIR = f'{ROOT_DIR}/data/source/Heridal/trainImages'\n",
    "TEST_DIR = f'{ROOT_DIR}/data/source/Heridal/testImages'\n",
    "\n",
    "TRAIN_PROCESSED_DIR = f'{ROOT_DIR}/data/processed/Heridal/train'\n",
    "VAL_PROCESSED_DIR = f'{ROOT_DIR}/data/processed/Heridal/validate'\n",
    "TEST_PROCESSED_DIR = f'{ROOT_DIR}/data/processed/Heridal/test'"
   ],
   "metadata": {
    "collapsed": false
   }
  },
  {
   "cell_type": "markdown",
   "source": [
    "## 1. Data transformation\n",
    "- Transform labels from xml format to yolo .txt files\n",
    "- Split train data into train and validate dataset\n",
    "\n",
    "After this step processed data directory should look like this:\n",
    "```\n",
    "data\n",
    "└───processed\n",
    "    └───Heridal\n",
    "        ├───test\n",
    "        │   ├───images\n",
    "        │   └───labels\n",
    "        ├───train\n",
    "        │   ├───images\n",
    "        │   └───labels\n",
    "        └───validate\n",
    "            ├───images\n",
    "            └───labels\n",
    "```"
   ],
   "metadata": {
    "collapsed": false
   }
  },
  {
   "cell_type": "markdown",
   "source": [
    "\n",
    "## 1.1 Transform labels from xml format to yolo .txt files\n",
    "\n",
    "Yolo format:\n",
    "- One *.txt file per image (if no objects in image, no *.txt file is required).\n",
    "- One row per object.\n",
    "- Each row is `class x_center y_center scaled_width scaled_height` format, separated by space.\n",
    "- Box coordinates must be in normalized from 0 to 1. If your boxes are in pixels, divide x_center and width by image width, and y_center and height by image height.\n",
    "- Bounding box in annotation in xywhn format.\n",
    "- Class numbers are zero-indexed (start from 0).\n",
    "- Files are saved into `data/Heridal/processed/test` and `data/Heridal/processed/train` to images and labels directory.\n"
   ],
   "metadata": {
    "collapsed": false
   }
  },
  {
   "cell_type": "code",
   "execution_count": null,
   "outputs": [],
   "source": [
    "def process_directory(input_directory, output_directory):\n",
    "    Path(f'{output_directory}/images').mkdir(parents=True, exist_ok=True)\n",
    "    Path(f'{output_directory}/labels').mkdir(parents=True, exist_ok=True)\n",
    "\n",
    "    files = [f for f in os.listdir(input_directory) if os.path.isfile(os.path.join(input_directory, f))]\n",
    "    for image_file in files:\n",
    "        image_filename = Path(image_file).stem\n",
    "        image_filepath = os.path.join(input_directory, image_file)\n",
    "\n",
    "        image = cv2.imread(image_filepath)\n",
    "        height, width, channels = image.shape\n",
    "        image_size = (width, height)\n",
    "\n",
    "        xml_filepath = f'{input_directory}/labels/{image_filename}.xml'\n",
    "\n",
    "        output_image_filepath = f'{output_directory}/images/{image_file}'\n",
    "        output_labels_filepath = f'{output_directory}/labels/{image_filename}.txt'\n",
    "\n",
    "        if not os.path.exists(xml_filepath):\n",
    "            print(f'Warning: file {image_file} does not have corresponding labels file - skipping file')\n",
    "            continue\n",
    "\n",
    "        with open(xml_filepath) as xml:\n",
    "            xml_dict = xmltodict.parse(xml.read())\n",
    "\n",
    "            yolo_labels = []\n",
    "\n",
    "            if xml_dict['annotation'] is None:\n",
    "                print(f'Warning: file {image_file} does not contain any objects - skipping file')\n",
    "                continue\n",
    "\n",
    "            if isinstance(xml_dict['annotation']['object'], list):\n",
    "                labels = xml_dict['annotation']['object']\n",
    "            else:\n",
    "                labels = [xml_dict['annotation']['object']]\n",
    "\n",
    "            for label in labels:\n",
    "                if label['name'] == 'human':\n",
    "                    bbox = (int(label['bndbox']['xmin']), int(label['bndbox']['ymin']), int(label['bndbox']['xmax']), int(label['bndbox']['ymax']))\n",
    "                    yolo_bbox = pbx.convert_bbox(bbox, image_size=image_size, from_type=\"voc\", to_type=\"yolo\")\n",
    "                    yolo_label = (0,) + yolo_bbox\n",
    "                    yolo_labels.append(yolo_label)\n",
    "                else:\n",
    "                    print(\"Warning: unknown object name\")\n",
    "\n",
    "            shutil.copyfile(image_filepath, output_image_filepath)\n",
    "\n",
    "            with open(output_labels_filepath, 'w') as f:\n",
    "                for label in yolo_labels:\n",
    "                    line = ' '.join([str(l) for l in label])\n",
    "                    f.write(f'{line}\\n')\n",
    "\n",
    "            #plot_xywhn_annotated_image_from_file(output_image_filepath, output_labels_filepath)\n",
    "\n",
    "process_directory(TRAIN_DIR, TRAIN_PROCESSED_DIR)\n",
    "process_directory(TEST_DIR, TEST_PROCESSED_DIR)"
   ],
   "metadata": {
    "collapsed": false
   }
  },
  {
   "cell_type": "markdown",
   "source": [
    "## 1.2 Split train data into train and validate dataset\n",
    "\n",
    "Move random probes from `data/Heridal/processed/train` to `data/Heridal/processed/validate`."
   ],
   "metadata": {
    "collapsed": false
   }
  },
  {
   "cell_type": "code",
   "execution_count": null,
   "outputs": [],
   "source": [
    "random.seed(1)\n",
    "np.random.seed(1)\n",
    "\n",
    "images_dir = f'{TRAIN_PROCESSED_DIR}/images'\n",
    "filenames = [f for f in os.listdir(images_dir) if os.path.isfile(os.path.join(images_dir, f))]\n",
    "split = int(0.8 * len(filenames))\n",
    "\n",
    "np.random.shuffle(filenames)\n",
    "train_filenames = filenames[:split]\n",
    "val_filenames = filenames[split:]\n",
    "\n",
    "Path(f'{VAL_PROCESSED_DIR}/images').mkdir(parents=True, exist_ok=True)\n",
    "Path(f'{VAL_PROCESSED_DIR}/labels').mkdir(parents=True, exist_ok=True)\n",
    "\n",
    "#todo: move validate files to data/Heridal/processed/validate directory\n",
    "for file in val_filenames:\n",
    "    filename = Path(file).stem\n",
    "\n",
    "    image_filepath = f'{TRAIN_PROCESSED_DIR}/images/{file}'\n",
    "    label_filepath = f'{TRAIN_PROCESSED_DIR}/labels/{filename}.txt'\n",
    "\n",
    "    output_image_filepath = f'{VAL_PROCESSED_DIR}/images/{file}'\n",
    "    output_label_filepath = f'{VAL_PROCESSED_DIR}/labels/{filename}.txt'\n",
    "\n",
    "    shutil.move(image_filepath, output_image_filepath)\n",
    "    shutil.move(label_filepath, output_label_filepath)\n"
   ],
   "metadata": {
    "collapsed": false
   }
  }
 ],
 "metadata": {
  "kernelspec": {
   "display_name": "Python 3",
   "language": "python",
   "name": "python3"
  },
  "language_info": {
   "codemirror_mode": {
    "name": "ipython",
    "version": 2
   },
   "file_extension": ".py",
   "mimetype": "text/x-python",
   "name": "python",
   "nbconvert_exporter": "python",
   "pygments_lexer": "ipython2",
   "version": "2.7.6"
  }
 },
 "nbformat": 4,
 "nbformat_minor": 0
}
